{
  "nbformat": 4,
  "nbformat_minor": 0,
  "metadata": {
    "colab": {
      "provenance": []
    },
    "kernelspec": {
      "name": "python3",
      "display_name": "Python 3"
    },
    "language_info": {
      "name": "python"
    }
  },
  "cells": [
    {
      "cell_type": "code",
      "source": [
        "# low-level modules\n",
        "class RawSubtitle:\n",
        "  \"\"\"\n",
        "  Converts a file with .vtt format to python object with some attrs.\n",
        "  Also tokenizes the .vtt content\n",
        "  \"\"\"\n",
        "  def __init__(self, subtitle_path: str = None, offset: int = 14):\n",
        "    self.subtitle_path = subtitle_path\n",
        "    self._lines = None\n",
        "    self._breaks =  None\n",
        "    self._set_lines(offset)\n",
        "    self._set_breaks()\n",
        "\n",
        "  def _set_lines(self, offset):\n",
        "\n",
        "     _lines = open(self.subtitle_path).readlines()[offset:]\n",
        "     _lines[0] = '\\n'\n",
        "     self._lines = _lines\n",
        "\n",
        "  def _set_breaks(self):\n",
        "      self._breaks = [i for i in range(len(self._lines)) if self._lines[i] == '\\n']\n",
        "\n",
        "  def tokenized(self) -> list:\n",
        "    # The algorithm works by selecting the items between every 2 single line breaks\n",
        "    return [ self._lines[self._breaks[i]:self._breaks[i+1]][1:] for i in range(len(self._breaks)-1) ]\n",
        "\n",
        "\n",
        "def get_numbers(string: str) -> int:\n",
        "  _number = ''.join([i for i in string if i.isnumeric()])\n",
        "  return int(_number)\n",
        "\n",
        "\n",
        "class Dialog:\n",
        "  \"\"\"\n",
        "  A Dialog object is a representative of every dialog and\n",
        "  encapsulates dialog data\n",
        "  \"\"\"\n",
        "  def __init__(self, raw_dialog: list):\n",
        "    self.number = get_numbers(raw_dialog[0])\n",
        "    self.start = raw_dialog[1][:12]\n",
        "    self.end = raw_dialog[1][17:29]\n",
        "    self.metadata = raw_dialog[1][29:]\n",
        "    self.text = raw_dialog[2:]\n",
        "\n",
        "  def __repr__(self) -> str:\n",
        "    return f'\\n{self.number}\\n {self.start} --> {self.end} {self.metadata}\\n {\"\".join(self.text)}'\n",
        "\n",
        "\n",
        "class DialogFactory:\n",
        "  \"\"\"\n",
        "  Factory with list dialogs as the product\n",
        "  \"\"\"\n",
        "  def __init__(self, subtitle_file_path: str) -> None:\n",
        "    self.subtitle_file_path = subtitle_file_path\n",
        "    self.dialogs = self.factory()\n",
        "\n",
        "  def factory(self) -> list:\n",
        "    _tokens = RawSubtitle(self.subtitle_file_path).tokenized()\n",
        "    dialogs = [Dialog(token) for token in _tokens]\n",
        "    return dialogs\n",
        "\n",
        "  def find_unique_times(self) -> dict:\n",
        "    time_dict = {}\n",
        "    _reps = []\n",
        "    for i in self.dialogs:\n",
        "      if not i.start in list(time_dict.keys()):\n",
        "        time_dict.update({i.start:i})\n",
        "      elif i.start in list(time_dict.keys()):\n",
        "        _reps.append(i)\n",
        "\n",
        "    for i in _reps:\n",
        "      time_dict[i.start].text += i.text\n",
        "    return time_dict\n",
        "\n",
        "  def write_to_vtt(self, file_name) -> None:\n",
        "    with open(f'{file_name}.vtt', 'w') as f:\n",
        "      for dialog in self.dialogs:\n",
        "        f.write(f'\\n{dialog}')\n",
        "\n",
        "# renumbering: change the number attr in the dialogs\n",
        "def renumber_dialogs(factory:DialogFactory):\n",
        "  _times_dic = factory.find_unique_times()\n",
        "  for i in _times_dic.values():\n",
        "    l = list(_times_dic.values())\n",
        "    i.number = l.index(i) + 1\n",
        "  factory.dialogs = list(_times_dic.values())"
      ],
      "metadata": {
        "id": "MA76Oj_0AhlI"
      },
      "execution_count": 172,
      "outputs": []
    },
    {
      "cell_type": "code",
      "source": [
        "#main module\n",
        "\n",
        "# reset the start and end times in the de version\n",
        "def reset_de_time(factory:DialogFactory):\n",
        "  for i in range(len(de_dialogs.dialogs)):\n",
        "    de_dialogs.dialogs[i].start = en_dialogs.dialogs[i].start\n",
        "    de_dialogs.dialogs[i].end = en_dialogs.dialogs[i].end\n",
        "\n",
        "if __name__ == '__main__':\n",
        "  print('working...')\n",
        "  de_dialogs = DialogFactory('de_70105212.vtt')\n",
        "  en_dialogs = DialogFactory('en_70105212.vtt')\n",
        "  renumber_dialogs(en_dialogs)\n",
        "  reset_de_time(de_dialogs)\n",
        "  en_dialogs.write_to_vtt('enEdited')\n",
        "  de_dialogs.write_to_vtt('deEdited')"
      ],
      "metadata": {
        "id": "qD1ZVmNK_vAJ",
        "colab": {
          "base_uri": "https://localhost:8080/"
        },
        "outputId": "db42c4ac-6aa2-413a-9d3c-79d866bfa8de"
      },
      "execution_count": 174,
      "outputs": [
        {
          "output_type": "stream",
          "name": "stdout",
          "text": [
            "working...\n"
          ]
        }
      ]
    }
  ]
}